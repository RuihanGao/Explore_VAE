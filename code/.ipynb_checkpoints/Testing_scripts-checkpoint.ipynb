{
 "cells": [
  {
   "cell_type": "markdown",
   "metadata": {},
   "source": [
    "# This scirpt implements helper functions and save for later use"
   ]
  },
  {
   "cell_type": "code",
   "execution_count": 1,
   "metadata": {},
   "outputs": [],
   "source": [
    "%matplotlib inline\n",
    "import os, sys\n",
    "import numpy as np\n",
    "import pickle\n",
    "import matplotlib.pyplot as plt\n",
    "\n",
    "import torch\n",
    "import torch.nn as nn\n",
    "import torch.nn.functional as F\n",
    "import torch.optim as optim\n",
    "import torchvision\n",
    "import torch.distributions as torchD\n",
    "\n",
    "import torch, seaborn as sns\n",
    "import pandas as pd\n",
    "\n",
    "from mpl_toolkits.mplot3d import Axes3D\n",
    "from matplotlib.colors import ListedColormap\n",
    "\n",
    "from utils import *"
   ]
  },
  {
   "cell_type": "markdown",
   "metadata": {},
   "source": [
    "# Test log_porb function"
   ]
  },
  {
   "cell_type": "code",
   "execution_count": 3,
   "metadata": {},
   "outputs": [],
   "source": [
    "mean = torch.tensor([0.,0.])\n",
    "pz = torch.distributions.Normal(torch.zeros_like(mean), scale=1.)"
   ]
  },
  {
   "cell_type": "code",
   "execution_count": 4,
   "metadata": {},
   "outputs": [
    {
     "name": "stdout",
     "output_type": "stream",
     "text": [
      "tensor([  -5000.9189, -125000.9219])\n"
     ]
    }
   ],
   "source": [
    "a = torch.tensor([100, -500]).float()\n",
    "print(pz.log_prob(a))"
   ]
  },
  {
   "cell_type": "markdown",
   "metadata": {},
   "source": [
    "# Test reshaping numpy array into panda frame and plot with seaborn"
   ]
  },
  {
   "cell_type": "code",
   "execution_count": 5,
   "metadata": {},
   "outputs": [
    {
     "name": "stdout",
     "output_type": "stream",
     "text": [
      "arr (1000, 3, 2)\n"
     ]
    },
    {
     "data": {
      "text/plain": [
       "<AxesSubplot:xlabel='Latent 0', ylabel='Latent 1'>"
      ]
     },
     "execution_count": 5,
     "metadata": {},
     "output_type": "execute_result"
    },
    {
     "data": {
      "image/png": "[encoded data removed]",
      "text/plain": [
       "<Figure size 432x288 with 1 Axes>"
      ]
     },
     "metadata": {
      "needs_background": "light"
     },
     "output_type": "display_data"
    }
   ],
   "source": [
    "import numpy as np\n",
    "import pandas as pd\n",
    "np.random.seed(2016)\n",
    "\n",
    "sample_shape = 1000\n",
    "batch_shape = 3\n",
    "latent_shape = 2\n",
    "# input shape (sample_shape, batch_shape, latent_shape)\n",
    "# output shape seaborn plot with x=latent_shape[0], y=latent_shape[1], hue=batch_shape\n",
    "\n",
    "sigma = 1\n",
    "mu = [[2, 5],[2,10], [10,10]] \n",
    "arr = np.random.normal(mu, sigma, (sample_shape, batch_shape, latent_shape))\n",
    "print(\"arr\", arr.shape)\n",
    "\n",
    "\n",
    "df = pd.DataFrame(arr.reshape(-1, latent_shape), columns=[\"Latent {}\".format(i) for i in range(latent_shape)]) #\n",
    "df.index = np.tile(np.arange(arr.shape[1]), arr.shape[0]) + 1\n",
    "df.index.name = 'Batch'\n",
    "index = np.tile(np.arange(arr.shape[1]), arr.shape[0]) + 1\n",
    "# print(\"arr\")\n",
    "# print(arr)\n",
    "# print(\"df\")\n",
    "# print(df)\n",
    "# print(\"index\")\n",
    "# print(index)\n",
    "\n",
    "sns.histplot(df, x=\"Latent 0\", y=\"Latent 1\", hue=\"Batch\", kde=True)"
   ]
  },
  {
   "cell_type": "markdown",
   "metadata": {},
   "source": [
    "# Interactive scroll bar for latent space (need to set maplotlib at the start of a new script)"
   ]
  },
  {
   "cell_type": "code",
   "execution_count": null,
   "metadata": {},
   "outputs": [],
   "source": [
    "%matplotlib notebook\n",
    "import ipywidgets as widgets\n",
    "\n",
    "# Test an interactive example with scroll bar\n",
    "x = np.linspace(0, 2 * np.pi)\n",
    "fig = plt.figure(figsize=(3,3))\n",
    "ax = fig.add_subplot(1, 1, 1)\n",
    "line, = ax.plot(x, np.sin(x))\n",
    "\n",
    "def update(w = 1.0):\n",
    "    line.set_ydata(np.sin(w * x))\n",
    "    fig.canvas.draw_idle()\n",
    "\n",
    "widgets.interact(update);"
   ]
  }
 ],
 "metadata": {
  "kernelspec": {
   "display_name": "slayer",
   "language": "python",
   "name": "slayer"
  },
  "language_info": {
   "codemirror_mode": {
    "name": "ipython",
    "version": 3
   },
   "file_extension": ".py",
   "mimetype": "text/x-python",
   "name": "python",
   "nbconvert_exporter": "python",
   "pygments_lexer": "ipython3",
   "version": "3.8.5"
  }
 },
 "nbformat": 4,
 "nbformat_minor": 4
}
